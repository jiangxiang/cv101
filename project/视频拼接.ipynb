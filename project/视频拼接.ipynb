{
 "cells": [
  {
   "cell_type": "markdown",
   "id": "08aff139",
   "metadata": {},
   "source": [
    "# 视频拼接"
   ]
  },
  {
   "cell_type": "markdown",
   "id": "da8fa80a",
   "metadata": {},
   "source": [
    "## 内容\n",
    "\n",
    "用两部相对固定的相机，拍摄一段不少于1分钟的视频。并将这两部视频拼接为一个视频。\n",
    "\n",
    "### 注意事项\n",
    "\n",
    "1. 自己部署图像采集设备，如两部手机固定在一起进行拍摄\n",
    "2. 确保两部成像设备之间保持相对固定，即拍摄时两部相机不发生相对位移\n",
    "3. 确保所拍摄的画面曝光充分，内容清晰，便于后续拼接\n",
    "4. 确保视频开始时间一致。考虑到不同相机开启时间有差异，可利用标志物来确定视频开始时间\n",
    "5. 确保时长不少于1分钟\n",
    "6. 内容不可以采用网络视频，需要自己拍摄\n",
    "\n",
    "## 需完成的内容\n",
    "\n",
    "1. 源代码\n",
    "2. 拼接结果\n",
    "3. 实验报告\n",
    "4. ppt\n",
    "\n",
    "### 源代码\n",
    "\n",
    "可以完整运行的代码，建议以github链接的方式提交，也可以通过邮件发送\n",
    "\n",
    "### 拼接结果\n",
    "\n",
    "最终视频可以放在github中展示，页可以通过邮件发送\n",
    "\n",
    "### 实验报告\n",
    "\n",
    "实验报告应当包含以下内容\n",
    "\n",
    "0. 小组信息: 包括人员组成、分工等\n",
    "1. 设备部署: 描述设备部署的方案，并附上实际设备采集的图像\n",
    "2. 算法思路: 描述实现的过程和方法，并给出关键的处理步骤。特别要强调对该应用的创新在哪\n",
    "3. 实验结果: \n",
    "    - 直观结果\n",
    "    - 量化指标(自己查阅资料实现指标的量化)\n",
    "    - 运算效率(处理每祯时间)\n",
    "4. 总结: 总结算法的适用范围，不足，以及可能的优化方向。\n",
    "\n",
    "###  ppt\n",
    "\n",
    "准备5-10分钟的ppt\n",
    "\n",
    "## 截止日期\n",
    "\n",
    "2023年4月10日  至 2023年4月"
   ]
  },
  {
   "cell_type": "code",
   "execution_count": null,
   "id": "0c3b39fb",
   "metadata": {},
   "outputs": [],
   "source": []
  }
 ],
 "metadata": {
  "kernelspec": {
   "display_name": "Python 3 (ipykernel)",
   "language": "python",
   "name": "python3"
  },
  "language_info": {
   "codemirror_mode": {
    "name": "ipython",
    "version": 3
   },
   "file_extension": ".py",
   "mimetype": "text/x-python",
   "name": "python",
   "nbconvert_exporter": "python",
   "pygments_lexer": "ipython3",
   "version": "3.8.16"
  }
 },
 "nbformat": 4,
 "nbformat_minor": 5
}
