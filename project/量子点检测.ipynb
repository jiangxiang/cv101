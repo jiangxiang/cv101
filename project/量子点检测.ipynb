{
 "cells": [
  {
   "cell_type": "markdown",
   "id": "52d9a7b9",
   "metadata": {},
   "source": [
    "# 实训小组作业：量子点目标检测"
   ]
  },
  {
   "cell_type": "markdown",
   "id": "37861984",
   "metadata": {},
   "source": [
    "### 目标\n",
    "\n",
    "对图像中的量子点进行检测，并计算出其中的量子点数量。(计数)\n"
   ]
  },
  {
   "cell_type": "markdown",
   "id": "c138da15",
   "metadata": {},
   "source": [
    "### 数据\n",
    "\n",
    "用labelme对数据（包括图像和视频）标记位置，得到数据集"
   ]
  },
  {
   "cell_type": "markdown",
   "id": "e06e9c9f",
   "metadata": {},
   "source": [
    "**labelme教程**\n",
    "\n",
    "labelme是一款开源的标注工具，由python写成"
   ]
  },
  {
   "cell_type": "markdown",
   "id": "4acfcdaa",
   "metadata": {},
   "source": [
    "    - 安装"
   ]
  },
  {
   "cell_type": "code",
   "execution_count": 1,
   "id": "088f9066",
   "metadata": {},
   "outputs": [
    {
     "name": "stdout",
     "output_type": "stream",
     "text": [
      "Requirement already satisfied: labelme in /opt/anaconda3/envs/nndl/lib/python3.8/site-packages (5.1.1)\n",
      "Requirement already satisfied: imgviz>=0.11 in /opt/anaconda3/envs/nndl/lib/python3.8/site-packages (from labelme) (1.7.2)\n",
      "Requirement already satisfied: matplotlib in /opt/anaconda3/envs/nndl/lib/python3.8/site-packages (from labelme) (3.7.0)\n",
      "Requirement already satisfied: natsort>=7.1.0 in /opt/anaconda3/envs/nndl/lib/python3.8/site-packages (from labelme) (8.3.1)\n",
      "Requirement already satisfied: numpy in /opt/anaconda3/envs/nndl/lib/python3.8/site-packages (from labelme) (1.24.2)\n",
      "Requirement already satisfied: Pillow>=2.8 in /opt/anaconda3/envs/nndl/lib/python3.8/site-packages (from labelme) (9.4.0)\n",
      "Requirement already satisfied: PyYAML in /opt/anaconda3/envs/nndl/lib/python3.8/site-packages (from labelme) (6.0)\n",
      "Requirement already satisfied: qtpy!=1.11.2 in /opt/anaconda3/envs/nndl/lib/python3.8/site-packages (from labelme) (2.3.0)\n",
      "Requirement already satisfied: termcolor in /opt/anaconda3/envs/nndl/lib/python3.8/site-packages (from labelme) (2.2.0)\n",
      "Requirement already satisfied: PyQt5!=5.15.3,!=5.15.4 in /opt/anaconda3/envs/nndl/lib/python3.8/site-packages (from labelme) (5.15.9)\n",
      "Requirement already satisfied: PyQt5-sip<13,>=12.11 in /opt/anaconda3/envs/nndl/lib/python3.8/site-packages (from PyQt5!=5.15.3,!=5.15.4->labelme) (12.11.1)\n",
      "Requirement already satisfied: PyQt5-Qt5>=5.15.2 in /opt/anaconda3/envs/nndl/lib/python3.8/site-packages (from PyQt5!=5.15.3,!=5.15.4->labelme) (5.15.2)\n",
      "Requirement already satisfied: packaging in /opt/anaconda3/envs/nndl/lib/python3.8/site-packages (from qtpy!=1.11.2->labelme) (23.0)\n",
      "Requirement already satisfied: contourpy>=1.0.1 in /opt/anaconda3/envs/nndl/lib/python3.8/site-packages (from matplotlib->labelme) (1.0.7)\n",
      "Requirement already satisfied: cycler>=0.10 in /opt/anaconda3/envs/nndl/lib/python3.8/site-packages (from matplotlib->labelme) (0.11.0)\n",
      "Requirement already satisfied: fonttools>=4.22.0 in /opt/anaconda3/envs/nndl/lib/python3.8/site-packages (from matplotlib->labelme) (4.38.0)\n",
      "Requirement already satisfied: kiwisolver>=1.0.1 in /opt/anaconda3/envs/nndl/lib/python3.8/site-packages (from matplotlib->labelme) (1.4.4)\n",
      "Requirement already satisfied: pyparsing>=2.3.1 in /opt/anaconda3/envs/nndl/lib/python3.8/site-packages (from matplotlib->labelme) (3.0.9)\n",
      "Requirement already satisfied: python-dateutil>=2.7 in /opt/anaconda3/envs/nndl/lib/python3.8/site-packages (from matplotlib->labelme) (2.8.2)\n",
      "Requirement already satisfied: importlib-resources>=3.2.0 in /opt/anaconda3/envs/nndl/lib/python3.8/site-packages (from matplotlib->labelme) (5.12.0)\n",
      "Requirement already satisfied: zipp>=3.1.0 in /opt/anaconda3/envs/nndl/lib/python3.8/site-packages (from importlib-resources>=3.2.0->matplotlib->labelme) (3.15.0)\n",
      "Requirement already satisfied: six>=1.5 in /opt/anaconda3/envs/nndl/lib/python3.8/site-packages (from python-dateutil>=2.7->matplotlib->labelme) (1.16.0)\n",
      "\n",
      "\u001b[1m[\u001b[0m\u001b[34;49mnotice\u001b[0m\u001b[1;39;49m]\u001b[0m\u001b[39;49m A new release of pip is available: \u001b[0m\u001b[31;49m23.0.1\u001b[0m\u001b[39;49m -> \u001b[0m\u001b[32;49m23.1.2\u001b[0m\n",
      "\u001b[1m[\u001b[0m\u001b[34;49mnotice\u001b[0m\u001b[1;39;49m]\u001b[0m\u001b[39;49m To update, run: \u001b[0m\u001b[32;49mpip install --upgrade pip\u001b[0m\n"
     ]
    }
   ],
   "source": [
    "!pip install labelme"
   ]
  },
  {
   "cell_type": "markdown",
   "id": "666436db",
   "metadata": {},
   "source": [
    "    - 启动"
   ]
  },
  {
   "cell_type": "code",
   "execution_count": 3,
   "id": "db89ac65",
   "metadata": {},
   "outputs": [
    {
     "name": "stdout",
     "output_type": "stream",
     "text": [
      "2023-05-18 00:53:46.588 python[62036:1458531] +[CATransaction synchronize] called within transaction\n",
      "2023-05-18 00:53:51.666 python[62036:1458531] +[CATransaction synchronize] called within transaction\n",
      "2023-05-18 00:53:54.375 python[62036:1458531] +[CATransaction synchronize] called within transaction\n",
      "2023-05-18 00:55:01.731 python[62036:1458531] +[CATransaction synchronize] called within transaction\n",
      "2023-05-18 00:55:15.767 python[62036:1458531] TSM AdjustCapsLockLEDForKeyTransitionHandling - _ISSetPhysicalKeyboardCapsLockLED Inhibit\n",
      "2023-05-18 00:56:28.881 python[62036:1458531] +[CATransaction synchronize] called within transaction\n",
      "2023-05-18 00:56:34.267 python[62036:1458531] +[CATransaction synchronize] called within transaction\n",
      "2023-05-18 00:56:36.166 python[62036:1458531] +[CATransaction synchronize] called within transaction\n",
      "2023-05-18 00:56:53.903 python[62036:1458531] +[CATransaction synchronize] called within transaction\n"
     ]
    }
   ],
   "source": [
    "!labelme"
   ]
  },
  {
   "cell_type": "markdown",
   "id": "3156726c",
   "metadata": {},
   "source": [
    "### 原理\n",
    "\n",
    "在样品中加入荧光物，荧光物会和特定的分子产生结合。\n",
    "\n",
    "结合后，在激光的激发下，会发出闪烁的荧光。\n",
    "\n",
    "可以用于测试样品中，是否存在某种特殊的分子。\n",
    "\n",
    "然而，由于闪烁频率较快，相机采样的频率不对齐，有可能会发生拍照的瞬间荧光正好没有激发的情况(也可能亮，或者不够亮的状态)。\n",
    "\n",
    "通常是对一个样品采集若干张图像，生成一个图像序列。\n",
    "\n",
    "所以数据中存在单张图像(由专业人士选择的效果较好的图像)，以及连续多帧拍摄的视频。\n",
    "\n",
    "我们的目的在于，从数据中查找出发光点的位置，并对齐进行计数。"
   ]
  },
  {
   "cell_type": "markdown",
   "id": "e19d650e",
   "metadata": {},
   "source": [
    "### 评价标准\n",
    "\n",
    "**基本知识**\n",
    "\n",
    "真假与阴阳\n",
    "\n",
    "- True Positive(**TP**): 实际为正例，预测为正例\n",
    "- False Positive(**FP**): 实际为负例，预测为正例\n",
    "- True Negative(**TN**): 实际为负例，预测为负例\n",
    "- False Negative(**FN**): 实际为正例，预测为负例"
   ]
  },
  {
   "cell_type": "markdown",
   "id": "c78f36ff",
   "metadata": {},
   "source": [
    "如何计算TP和FP？\n",
    "\n",
    "* 给定ground truth的目标框，和一个预测的目标框，计算二者的重合度(IoU)\n",
    "* 如果重合度大于一定的阈值（如0.5）, 则视为是一个TP，否则视为一个FP\n",
    "* 如果重合度小于设定阈值，则视为一个FN\n",
    "* 如果一个目标被预测了多个框，则将满足重合度要求的，置信度最高的预测框视为TP，其余皆视为FP"
   ]
  },
  {
   "cell_type": "markdown",
   "id": "579520c2",
   "metadata": {},
   "source": [
    "TP和FP能计算什么？\n",
    "\n",
    "* 精度(precision)\n",
    "\n",
    "$$P=\\frac{TP}{TP+FP}$$\n",
    "\n",
    "* 召回率(recall)\n",
    "\n",
    "$$R=\\frac{TP}{TP+FN}$$\n",
    "\n",
    "当IoU阈值从0逐渐变化到1时，\n",
    "\n",
    "精度和recall会逐渐变化，得到PR曲线"
   ]
  },
  {
   "cell_type": "markdown",
   "id": "e79cdab0",
   "metadata": {},
   "source": [
    "精度和召回率可以计算更全面的评价\n",
    "\n",
    "* F1 score\n",
    "\n",
    "$$F_1 = \\frac{2PR}{P+R}$$"
   ]
  },
  {
   "cell_type": "markdown",
   "id": "c3a15dd8",
   "metadata": {},
   "source": [
    "AP的计算\n",
    "\n",
    "* AP是PR曲线下的面积，越大说明效果越好。\n",
    "\n",
    "$$AP=\\sum P_i$$"
   ]
  },
  {
   "cell_type": "markdown",
   "id": "b668af5c",
   "metadata": {},
   "source": [
    "mAP的计算\n",
    "\n",
    "* 度量多类别下的AP\n",
    "\n",
    "$$mAP=\\frac{AP}{num\\_class}$$"
   ]
  },
  {
   "cell_type": "markdown",
   "id": "b8df076d",
   "metadata": {},
   "source": [
    "准确率\n",
    "\n",
    "* 准确率表明预测框的准确率，即\n",
    "\n",
    "$$Acc=\\frac{TP}{TP+FP+FN}$$"
   ]
  },
  {
   "cell_type": "markdown",
   "id": "219eabac",
   "metadata": {},
   "source": [
    "**计数评价**\n",
    "\n",
    "* 均方误差\n",
    "\n",
    "    $$MAE=\\frac{1}{n}\\sum |pred - gt|$$"
   ]
  },
  {
   "cell_type": "markdown",
   "id": "75e2cf01",
   "metadata": {},
   "source": [
    "### 任务说明\n",
    "\n",
    "方法不限，可以采用深度方法、不同的检测模型，也可以采用传统方法，甚至可以采用分割、GAN等等技术。\n",
    "\n",
    "技术上没有任何限制，言之有理，能实现更好的性能为最终目的。\n",
    "\n"
   ]
  },
  {
   "cell_type": "markdown",
   "id": "8b899a38",
   "metadata": {},
   "source": [
    "**流程**\n",
    "\n",
    "1. 数据标注：每组都会分配不同的数据进行标注。标注后全部数据集统一收集后整合给大家用于训练和测试；\n",
    "\n",
    "2. 代码开发：各组组内讨论算法流程\n",
    "\n",
    "3. 性能评估：(建议在开发前就完成性能评估代码，以测试模型性能) 需要包括至少：F1 score，PR曲线, AP以及MAE4个基本评价指标\n",
    "\n",
    "4. 报告撰写：按上次作业流程编写报告。**雷同零容忍**"
   ]
  },
  {
   "cell_type": "markdown",
   "id": "4e2926bd",
   "metadata": {},
   "source": [
    "**时间节点**\n",
    "\n",
    "5月29日前发布任务，6月22日(端午节)前提交最终报告和代码。\n",
    "\n",
    "**特殊要求**\n",
    "\n",
    "事先准备好ppt，视实现程度邀请小组成员进行方法介绍"
   ]
  },
  {
   "cell_type": "markdown",
   "id": "2db0dba7",
   "metadata": {},
   "source": [
    "### 一些提示(后续想到会补充)\n",
    "\n",
    "* 数据集总数较少，但是可以将样本切割成小块，或者滑动窗口将图像截取成相同尺寸的大小，来扩充数据集；\n",
    "\n",
    "* 但最终评估结果是在完整的图像上进行的，也就是意味着要是切割成小块训练模型，你最后需要将结果拼起来统一度量\n",
    "\n",
    "* 目标非常小，直接使用faster rcnn等模型，还有yolo这种，会效果不好\n",
    "\n",
    "* 同时背景非常嘈杂，可以适当采用预处理步骤实现图像增强。"
   ]
  },
  {
   "cell_type": "code",
   "execution_count": null,
   "id": "15c2d5fc",
   "metadata": {},
   "outputs": [],
   "source": []
  }
 ],
 "metadata": {
  "kernelspec": {
   "display_name": "Python 3 (ipykernel)",
   "language": "python",
   "name": "python3"
  },
  "language_info": {
   "codemirror_mode": {
    "name": "ipython",
    "version": 3
   },
   "file_extension": ".py",
   "mimetype": "text/x-python",
   "name": "python",
   "nbconvert_exporter": "python",
   "pygments_lexer": "ipython3",
   "version": "3.8.16"
  }
 },
 "nbformat": 4,
 "nbformat_minor": 5
}
